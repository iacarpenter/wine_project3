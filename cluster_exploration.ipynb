{
 "cells": [
  {
   "cell_type": "code",
   "execution_count": 2,
   "metadata": {},
   "outputs": [],
   "source": [
    "import pandas as pd\n",
    "from wine_functions import concat_dataframes, fetch_wine_data, load_red_wine_data, load_white_wine_data, add_color_feature, concat_dataframes, split_dataset\n",
    "from sklearn.preprocessing import StandardScaler\n",
    "\n",
    "fetch_wine_data()\n",
    "\n",
    "red_wine = load_red_wine_data()\n",
    "white_wine = load_white_wine_data()\n",
    "add_color_feature(red_wine, white_wine)\n",
    "wine = concat_dataframes(red_wine, white_wine)\n",
    "\n",
    "train, train_labels, test, test_lables = split_dataset(wine)"
   ]
  },
  {
   "cell_type": "code",
   "execution_count": null,
   "id": "1d31e6cd",
   "metadata": {},
   "outputs": [],
   "source": [
    "# scale data, then do classification with a few columns\n",
    "# use silhouette score to find best number of clusters for these columns\n",
    "# check that these are tight clusters (visualization? better metric?)\n",
    "# ^pipeline or functions or something to easily do a few groups of columns\n",
    "\n"
   ]
  }
 ],
 "metadata": {
  "interpreter": {
   "hash": "b55020c303723496cb6bca6658703d8ba2c876cdd349f03a29b16dd5b49a2100"
  },
  "kernelspec": {
   "display_name": "Python 3.10.2 ('venv': venv)",
   "language": "python",
   "name": "python3"
  },
  "language_info": {
   "codemirror_mode": {
    "name": "ipython",
    "version": 3
   },
   "file_extension": ".py",
   "mimetype": "text/x-python",
   "name": "python",
   "nbconvert_exporter": "python",
   "pygments_lexer": "ipython3",
   "version": "3.10.2"
  }
 },
 "nbformat": 4,
 "nbformat_minor": 5
}
